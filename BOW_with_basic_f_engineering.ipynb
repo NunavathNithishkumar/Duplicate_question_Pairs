{
 "cells": [
  {
   "cell_type": "code",
   "execution_count": 1,
   "id": "4cb8da75",
   "metadata": {},
   "outputs": [],
   "source": [
    "import numpy as np\n",
    "import pandas as pd\n",
    "import matplotlib.pyplot as plt\n",
    "import seaborn as sns\n",
    "\n",
    "import warnings\n",
    "warnings.filterwarnings('ignore')"
   ]
  },
  {
   "cell_type": "code",
   "execution_count": 2,
   "id": "55ddb426",
   "metadata": {},
   "outputs": [],
   "source": [
    "df = pd.read_csv('train.csv')"
   ]
  },
  {
   "cell_type": "code",
   "execution_count": 3,
   "id": "cc08f25a",
   "metadata": {},
   "outputs": [
    {
     "data": {
      "text/plain": [
       "(404290, 6)"
      ]
     },
     "execution_count": 3,
     "metadata": {},
     "output_type": "execute_result"
    }
   ],
   "source": [
    "df.shape"
   ]
  },
  {
   "cell_type": "code",
   "execution_count": 4,
   "id": "c49d3896",
   "metadata": {},
   "outputs": [
    {
     "data": {
      "text/html": [
       "<div>\n",
       "<style scoped>\n",
       "    .dataframe tbody tr th:only-of-type {\n",
       "        vertical-align: middle;\n",
       "    }\n",
       "\n",
       "    .dataframe tbody tr th {\n",
       "        vertical-align: top;\n",
       "    }\n",
       "\n",
       "    .dataframe thead th {\n",
       "        text-align: right;\n",
       "    }\n",
       "</style>\n",
       "<table border=\"1\" class=\"dataframe\">\n",
       "  <thead>\n",
       "    <tr style=\"text-align: right;\">\n",
       "      <th></th>\n",
       "      <th>id</th>\n",
       "      <th>qid1</th>\n",
       "      <th>qid2</th>\n",
       "      <th>question1</th>\n",
       "      <th>question2</th>\n",
       "      <th>is_duplicate</th>\n",
       "    </tr>\n",
       "  </thead>\n",
       "  <tbody>\n",
       "    <tr>\n",
       "      <th>0</th>\n",
       "      <td>0</td>\n",
       "      <td>1</td>\n",
       "      <td>2</td>\n",
       "      <td>What is the step by step guide to invest in sh...</td>\n",
       "      <td>What is the step by step guide to invest in sh...</td>\n",
       "      <td>0</td>\n",
       "    </tr>\n",
       "    <tr>\n",
       "      <th>1</th>\n",
       "      <td>1</td>\n",
       "      <td>3</td>\n",
       "      <td>4</td>\n",
       "      <td>What is the story of Kohinoor (Koh-i-Noor) Dia...</td>\n",
       "      <td>What would happen if the Indian government sto...</td>\n",
       "      <td>0</td>\n",
       "    </tr>\n",
       "    <tr>\n",
       "      <th>2</th>\n",
       "      <td>2</td>\n",
       "      <td>5</td>\n",
       "      <td>6</td>\n",
       "      <td>How can I increase the speed of my internet co...</td>\n",
       "      <td>How can Internet speed be increased by hacking...</td>\n",
       "      <td>0</td>\n",
       "    </tr>\n",
       "    <tr>\n",
       "      <th>3</th>\n",
       "      <td>3</td>\n",
       "      <td>7</td>\n",
       "      <td>8</td>\n",
       "      <td>Why am I mentally very lonely? How can I solve...</td>\n",
       "      <td>Find the remainder when [math]23^{24}[/math] i...</td>\n",
       "      <td>0</td>\n",
       "    </tr>\n",
       "    <tr>\n",
       "      <th>4</th>\n",
       "      <td>4</td>\n",
       "      <td>9</td>\n",
       "      <td>10</td>\n",
       "      <td>Which one dissolve in water quikly sugar, salt...</td>\n",
       "      <td>Which fish would survive in salt water?</td>\n",
       "      <td>0</td>\n",
       "    </tr>\n",
       "  </tbody>\n",
       "</table>\n",
       "</div>"
      ],
      "text/plain": [
       "   id  qid1  qid2                                          question1  \\\n",
       "0   0     1     2  What is the step by step guide to invest in sh...   \n",
       "1   1     3     4  What is the story of Kohinoor (Koh-i-Noor) Dia...   \n",
       "2   2     5     6  How can I increase the speed of my internet co...   \n",
       "3   3     7     8  Why am I mentally very lonely? How can I solve...   \n",
       "4   4     9    10  Which one dissolve in water quikly sugar, salt...   \n",
       "\n",
       "                                           question2  is_duplicate  \n",
       "0  What is the step by step guide to invest in sh...             0  \n",
       "1  What would happen if the Indian government sto...             0  \n",
       "2  How can Internet speed be increased by hacking...             0  \n",
       "3  Find the remainder when [math]23^{24}[/math] i...             0  \n",
       "4            Which fish would survive in salt water?             0  "
      ]
     },
     "execution_count": 4,
     "metadata": {},
     "output_type": "execute_result"
    }
   ],
   "source": [
    "df.head()"
   ]
  },
  {
   "cell_type": "code",
   "execution_count": 5,
   "id": "0e9103f0",
   "metadata": {},
   "outputs": [],
   "source": [
    "new_df = df.sample(30000)"
   ]
  },
  {
   "cell_type": "code",
   "execution_count": 10,
   "id": "001bd0a3",
   "metadata": {},
   "outputs": [
    {
     "data": {
      "text/html": [
       "<div>\n",
       "<style scoped>\n",
       "    .dataframe tbody tr th:only-of-type {\n",
       "        vertical-align: middle;\n",
       "    }\n",
       "\n",
       "    .dataframe tbody tr th {\n",
       "        vertical-align: top;\n",
       "    }\n",
       "\n",
       "    .dataframe thead th {\n",
       "        text-align: right;\n",
       "    }\n",
       "</style>\n",
       "<table border=\"1\" class=\"dataframe\">\n",
       "  <thead>\n",
       "    <tr style=\"text-align: right;\">\n",
       "      <th></th>\n",
       "      <th>id</th>\n",
       "      <th>qid1</th>\n",
       "      <th>qid2</th>\n",
       "      <th>question1</th>\n",
       "      <th>question2</th>\n",
       "      <th>is_duplicate</th>\n",
       "    </tr>\n",
       "  </thead>\n",
       "  <tbody>\n",
       "    <tr>\n",
       "      <th>140553</th>\n",
       "      <td>140553</td>\n",
       "      <td>223340</td>\n",
       "      <td>223341</td>\n",
       "      <td>What are some of the Google Voice features?</td>\n",
       "      <td>What does Google Voice do?</td>\n",
       "      <td>1</td>\n",
       "    </tr>\n",
       "    <tr>\n",
       "      <th>346129</th>\n",
       "      <td>346129</td>\n",
       "      <td>450816</td>\n",
       "      <td>474489</td>\n",
       "      <td>What are the best websites to read well writte...</td>\n",
       "      <td>What is the best blog to read website reviews?</td>\n",
       "      <td>0</td>\n",
       "    </tr>\n",
       "    <tr>\n",
       "      <th>296986</th>\n",
       "      <td>296986</td>\n",
       "      <td>320238</td>\n",
       "      <td>419302</td>\n",
       "      <td>Why is Sri lanka and Bangladesh, so much clean...</td>\n",
       "      <td>Why the oldest civilization were only in India...</td>\n",
       "      <td>0</td>\n",
       "    </tr>\n",
       "    <tr>\n",
       "      <th>330326</th>\n",
       "      <td>330326</td>\n",
       "      <td>407799</td>\n",
       "      <td>457074</td>\n",
       "      <td>What are the guest privileges with an LA Fitne...</td>\n",
       "      <td>How do you get a membership at LA Fitness?</td>\n",
       "      <td>0</td>\n",
       "    </tr>\n",
       "    <tr>\n",
       "      <th>312931</th>\n",
       "      <td>312931</td>\n",
       "      <td>437457</td>\n",
       "      <td>437458</td>\n",
       "      <td>How exactly is curve fitting and hypothesis te...</td>\n",
       "      <td>What does fitting a model in machine learning ...</td>\n",
       "      <td>0</td>\n",
       "    </tr>\n",
       "  </tbody>\n",
       "</table>\n",
       "</div>"
      ],
      "text/plain": [
       "            id    qid1    qid2  \\\n",
       "140553  140553  223340  223341   \n",
       "346129  346129  450816  474489   \n",
       "296986  296986  320238  419302   \n",
       "330326  330326  407799  457074   \n",
       "312931  312931  437457  437458   \n",
       "\n",
       "                                                question1  \\\n",
       "140553        What are some of the Google Voice features?   \n",
       "346129  What are the best websites to read well writte...   \n",
       "296986  Why is Sri lanka and Bangladesh, so much clean...   \n",
       "330326  What are the guest privileges with an LA Fitne...   \n",
       "312931  How exactly is curve fitting and hypothesis te...   \n",
       "\n",
       "                                                question2  is_duplicate  \n",
       "140553                         What does Google Voice do?             1  \n",
       "346129     What is the best blog to read website reviews?             0  \n",
       "296986  Why the oldest civilization were only in India...             0  \n",
       "330326         How do you get a membership at LA Fitness?             0  \n",
       "312931  What does fitting a model in machine learning ...             0  "
      ]
     },
     "execution_count": 10,
     "metadata": {},
     "output_type": "execute_result"
    }
   ],
   "source": [
    "new_df.head()"
   ]
  },
  {
   "cell_type": "code",
   "execution_count": 11,
   "id": "c9fe0a4e",
   "metadata": {},
   "outputs": [
    {
     "data": {
      "text/plain": [
       "id              0\n",
       "qid1            0\n",
       "qid2            0\n",
       "question1       0\n",
       "question2       0\n",
       "is_duplicate    0\n",
       "dtype: int64"
      ]
     },
     "execution_count": 11,
     "metadata": {},
     "output_type": "execute_result"
    }
   ],
   "source": [
    "new_df.isnull().sum()"
   ]
  },
  {
   "cell_type": "code",
   "execution_count": 12,
   "id": "046e97d6",
   "metadata": {},
   "outputs": [
    {
     "data": {
      "text/plain": [
       "0"
      ]
     },
     "execution_count": 12,
     "metadata": {},
     "output_type": "execute_result"
    }
   ],
   "source": [
    "new_df.duplicated().sum()"
   ]
  },
  {
   "cell_type": "code",
   "execution_count": 13,
   "id": "c5d9b317",
   "metadata": {},
   "outputs": [
    {
     "name": "stdout",
     "output_type": "stream",
     "text": [
      "is_duplicate\n",
      "0    18784\n",
      "1    11216\n",
      "Name: count, dtype: int64\n",
      "is_duplicate\n",
      "0    62.613333\n",
      "1    37.386667\n",
      "Name: count, dtype: float64\n"
     ]
    },
    {
     "data": {
      "text/plain": [
       "<Axes: xlabel='is_duplicate'>"
      ]
     },
     "execution_count": 13,
     "metadata": {},
     "output_type": "execute_result"
    },
    {
     "data": {
      "image/png": "[encoded data removed]",
      "text/plain": [
       "<Figure size 640x480 with 1 Axes>"
      ]
     },
     "metadata": {},
     "output_type": "display_data"
    }
   ],
   "source": [
    "# Distribution of duplicate and non-duplicate questions\n",
    "\n",
    "print(new_df['is_duplicate'].value_counts())\n",
    "print((new_df['is_duplicate'].value_counts()/new_df['is_duplicate'].count())*100)\n",
    "new_df['is_duplicate'].value_counts().plot(kind='bar')"
   ]
  },
  {
   "cell_type": "code",
   "execution_count": 14,
   "id": "c12a92e6",
   "metadata": {},
   "outputs": [
    {
     "name": "stdout",
     "output_type": "stream",
     "text": [
      "Number of unique questions 55424\n",
      "Number of questions getting repeated 3397\n"
     ]
    }
   ],
   "source": [
    "# Repeated questions\n",
    "\n",
    "qid = pd.Series(new_df['qid1'].tolist() + new_df['qid2'].tolist())\n",
    "print('Number of unique questions',np.unique(qid).shape[0])\n",
    "x = qid.value_counts()>1\n",
    "print('Number of questions getting repeated',x[x].shape[0])"
   ]
  },
  {
   "cell_type": "code",
   "execution_count": 15,
   "id": "33097303",
   "metadata": {},
   "outputs": [
    {
     "data": {
      "image/png": "[encoded data removed]",
      "text/plain": [
       "<Figure size 640x480 with 1 Axes>"
      ]
     },
     "metadata": {},
     "output_type": "display_data"
    }
   ],
   "source": [
    "# Repeated questions histogram\n",
    "\n",
    "plt.hist(qid.value_counts().values,bins=160)\n",
    "plt.yscale('log')\n",
    "plt.show()"
   ]
  },
  {
   "cell_type": "code",
   "execution_count": 16,
   "id": "c865067c",
   "metadata": {},
   "outputs": [],
   "source": [
    "# Feature Engineering\n",
    "\n",
    "new_df['q1_len'] = new_df['question1'].str.len() \n",
    "new_df['q2_len'] = new_df['question2'].str.len()"
   ]
  },
  {
   "cell_type": "code",
   "execution_count": 17,
   "id": "47697641",
   "metadata": {},
   "outputs": [
    {
     "data": {
      "text/html": [
       "<div>\n",
       "<style scoped>\n",
       "    .dataframe tbody tr th:only-of-type {\n",
       "        vertical-align: middle;\n",
       "    }\n",
       "\n",
       "    .dataframe tbody tr th {\n",
       "        vertical-align: top;\n",
       "    }\n",
       "\n",
       "    .dataframe thead th {\n",
       "        text-align: right;\n",
       "    }\n",
       "</style>\n",
       "<table border=\"1\" class=\"dataframe\">\n",
       "  <thead>\n",
       "    <tr style=\"text-align: right;\">\n",
       "      <th></th>\n",
       "      <th>id</th>\n",
       "      <th>qid1</th>\n",
       "      <th>qid2</th>\n",
       "      <th>question1</th>\n",
       "      <th>question2</th>\n",
       "      <th>is_duplicate</th>\n",
       "      <th>q1_len</th>\n",
       "      <th>q2_len</th>\n",
       "    </tr>\n",
       "  </thead>\n",
       "  <tbody>\n",
       "    <tr>\n",
       "      <th>140553</th>\n",
       "      <td>140553</td>\n",
       "      <td>223340</td>\n",
       "      <td>223341</td>\n",
       "      <td>What are some of the Google Voice features?</td>\n",
       "      <td>What does Google Voice do?</td>\n",
       "      <td>1</td>\n",
       "      <td>43</td>\n",
       "      <td>26</td>\n",
       "    </tr>\n",
       "    <tr>\n",
       "      <th>346129</th>\n",
       "      <td>346129</td>\n",
       "      <td>450816</td>\n",
       "      <td>474489</td>\n",
       "      <td>What are the best websites to read well writte...</td>\n",
       "      <td>What is the best blog to read website reviews?</td>\n",
       "      <td>0</td>\n",
       "      <td>57</td>\n",
       "      <td>46</td>\n",
       "    </tr>\n",
       "    <tr>\n",
       "      <th>296986</th>\n",
       "      <td>296986</td>\n",
       "      <td>320238</td>\n",
       "      <td>419302</td>\n",
       "      <td>Why is Sri lanka and Bangladesh, so much clean...</td>\n",
       "      <td>Why the oldest civilization were only in India...</td>\n",
       "      <td>0</td>\n",
       "      <td>60</td>\n",
       "      <td>141</td>\n",
       "    </tr>\n",
       "    <tr>\n",
       "      <th>330326</th>\n",
       "      <td>330326</td>\n",
       "      <td>407799</td>\n",
       "      <td>457074</td>\n",
       "      <td>What are the guest privileges with an LA Fitne...</td>\n",
       "      <td>How do you get a membership at LA Fitness?</td>\n",
       "      <td>0</td>\n",
       "      <td>60</td>\n",
       "      <td>42</td>\n",
       "    </tr>\n",
       "    <tr>\n",
       "      <th>312931</th>\n",
       "      <td>312931</td>\n",
       "      <td>437457</td>\n",
       "      <td>437458</td>\n",
       "      <td>How exactly is curve fitting and hypothesis te...</td>\n",
       "      <td>What does fitting a model in machine learning ...</td>\n",
       "      <td>0</td>\n",
       "      <td>77</td>\n",
       "      <td>51</td>\n",
       "    </tr>\n",
       "  </tbody>\n",
       "</table>\n",
       "</div>"
      ],
      "text/plain": [
       "            id    qid1    qid2  \\\n",
       "140553  140553  223340  223341   \n",
       "346129  346129  450816  474489   \n",
       "296986  296986  320238  419302   \n",
       "330326  330326  407799  457074   \n",
       "312931  312931  437457  437458   \n",
       "\n",
       "                                                question1  \\\n",
       "140553        What are some of the Google Voice features?   \n",
       "346129  What are the best websites to read well writte...   \n",
       "296986  Why is Sri lanka and Bangladesh, so much clean...   \n",
       "330326  What are the guest privileges with an LA Fitne...   \n",
       "312931  How exactly is curve fitting and hypothesis te...   \n",
       "\n",
       "                                                question2  is_duplicate  \\\n",
       "140553                         What does Google Voice do?             1   \n",
       "346129     What is the best blog to read website reviews?             0   \n",
       "296986  Why the oldest civilization were only in India...             0   \n",
       "330326         How do you get a membership at LA Fitness?             0   \n",
       "312931  What does fitting a model in machine learning ...             0   \n",
       "\n",
       "        q1_len  q2_len  \n",
       "140553      43      26  \n",
       "346129      57      46  \n",
       "296986      60     141  \n",
       "330326      60      42  \n",
       "312931      77      51  "
      ]
     },
     "execution_count": 17,
     "metadata": {},
     "output_type": "execute_result"
    }
   ],
   "source": [
    "new_df.head()"
   ]
  },
  {
   "cell_type": "code",
   "execution_count": 18,
   "id": "d6a39a37",
   "metadata": {},
   "outputs": [
    {
     "data": {
      "text/html": [
       "<div>\n",
       "<style scoped>\n",
       "    .dataframe tbody tr th:only-of-type {\n",
       "        vertical-align: middle;\n",
       "    }\n",
       "\n",
       "    .dataframe tbody tr th {\n",
       "        vertical-align: top;\n",
       "    }\n",
       "\n",
       "    .dataframe thead th {\n",
       "        text-align: right;\n",
       "    }\n",
       "</style>\n",
       "<table border=\"1\" class=\"dataframe\">\n",
       "  <thead>\n",
       "    <tr style=\"text-align: right;\">\n",
       "      <th></th>\n",
       "      <th>id</th>\n",
       "      <th>qid1</th>\n",
       "      <th>qid2</th>\n",
       "      <th>question1</th>\n",
       "      <th>question2</th>\n",
       "      <th>is_duplicate</th>\n",
       "      <th>q1_len</th>\n",
       "      <th>q2_len</th>\n",
       "      <th>q1_num_words</th>\n",
       "      <th>q2_num_words</th>\n",
       "    </tr>\n",
       "  </thead>\n",
       "  <tbody>\n",
       "    <tr>\n",
       "      <th>140553</th>\n",
       "      <td>140553</td>\n",
       "      <td>223340</td>\n",
       "      <td>223341</td>\n",
       "      <td>What are some of the Google Voice features?</td>\n",
       "      <td>What does Google Voice do?</td>\n",
       "      <td>1</td>\n",
       "      <td>43</td>\n",
       "      <td>26</td>\n",
       "      <td>8</td>\n",
       "      <td>5</td>\n",
       "    </tr>\n",
       "    <tr>\n",
       "      <th>346129</th>\n",
       "      <td>346129</td>\n",
       "      <td>450816</td>\n",
       "      <td>474489</td>\n",
       "      <td>What are the best websites to read well writte...</td>\n",
       "      <td>What is the best blog to read website reviews?</td>\n",
       "      <td>0</td>\n",
       "      <td>57</td>\n",
       "      <td>46</td>\n",
       "      <td>10</td>\n",
       "      <td>9</td>\n",
       "    </tr>\n",
       "    <tr>\n",
       "      <th>296986</th>\n",
       "      <td>296986</td>\n",
       "      <td>320238</td>\n",
       "      <td>419302</td>\n",
       "      <td>Why is Sri lanka and Bangladesh, so much clean...</td>\n",
       "      <td>Why the oldest civilization were only in India...</td>\n",
       "      <td>0</td>\n",
       "      <td>60</td>\n",
       "      <td>141</td>\n",
       "      <td>11</td>\n",
       "      <td>19</td>\n",
       "    </tr>\n",
       "    <tr>\n",
       "      <th>330326</th>\n",
       "      <td>330326</td>\n",
       "      <td>407799</td>\n",
       "      <td>457074</td>\n",
       "      <td>What are the guest privileges with an LA Fitne...</td>\n",
       "      <td>How do you get a membership at LA Fitness?</td>\n",
       "      <td>0</td>\n",
       "      <td>60</td>\n",
       "      <td>42</td>\n",
       "      <td>10</td>\n",
       "      <td>9</td>\n",
       "    </tr>\n",
       "    <tr>\n",
       "      <th>312931</th>\n",
       "      <td>312931</td>\n",
       "      <td>437457</td>\n",
       "      <td>437458</td>\n",
       "      <td>How exactly is curve fitting and hypothesis te...</td>\n",
       "      <td>What does fitting a model in machine learning ...</td>\n",
       "      <td>0</td>\n",
       "      <td>77</td>\n",
       "      <td>51</td>\n",
       "      <td>12</td>\n",
       "      <td>9</td>\n",
       "    </tr>\n",
       "  </tbody>\n",
       "</table>\n",
       "</div>"
      ],
      "text/plain": [
       "            id    qid1    qid2  \\\n",
       "140553  140553  223340  223341   \n",
       "346129  346129  450816  474489   \n",
       "296986  296986  320238  419302   \n",
       "330326  330326  407799  457074   \n",
       "312931  312931  437457  437458   \n",
       "\n",
       "                                                question1  \\\n",
       "140553        What are some of the Google Voice features?   \n",
       "346129  What are the best websites to read well writte...   \n",
       "296986  Why is Sri lanka and Bangladesh, so much clean...   \n",
       "330326  What are the guest privileges with an LA Fitne...   \n",
       "312931  How exactly is curve fitting and hypothesis te...   \n",
       "\n",
       "                                                question2  is_duplicate  \\\n",
       "140553                         What does Google Voice do?             1   \n",
       "346129     What is the best blog to read website reviews?             0   \n",
       "296986  Why the oldest civilization were only in India...             0   \n",
       "330326         How do you get a membership at LA Fitness?             0   \n",
       "312931  What does fitting a model in machine learning ...             0   \n",
       "\n",
       "        q1_len  q2_len  q1_num_words  q2_num_words  \n",
       "140553      43      26             8             5  \n",
       "346129      57      46            10             9  \n",
       "296986      60     141            11            19  \n",
       "330326      60      42            10             9  \n",
       "312931      77      51            12             9  "
      ]
     },
     "execution_count": 18,
     "metadata": {},
     "output_type": "execute_result"
    }
   ],
   "source": [
    "new_df['q1_num_words'] = new_df['question1'].apply(lambda row: len(row.split(\" \")))\n",
    "new_df['q2_num_words'] = new_df['question2'].apply(lambda row: len(row.split(\" \")))\n",
    "new_df.head()"
   ]
  },
  {
   "cell_type": "code",
   "execution_count": 19,
   "id": "656ca279",
   "metadata": {},
   "outputs": [],
   "source": [
    "def common_words(row):\n",
    "    w1 = set(map(lambda word: word.lower().strip(), row['question1'].split(\" \")))\n",
    "    w2 = set(map(lambda word: word.lower().strip(), row['question2'].split(\" \")))    \n",
    "    return len(w1 & w2)"
   ]
  },
  {
   "cell_type": "code",
   "execution_count": 20,
   "id": "5b1c5c10",
   "metadata": {},
   "outputs": [
    {
     "data": {
      "text/html": [
       "<div>\n",
       "<style scoped>\n",
       "    .dataframe tbody tr th:only-of-type {\n",
       "        vertical-align: middle;\n",
       "    }\n",
       "\n",
       "    .dataframe tbody tr th {\n",
       "        vertical-align: top;\n",
       "    }\n",
       "\n",
       "    .dataframe thead th {\n",
       "        text-align: right;\n",
       "    }\n",
       "</style>\n",
       "<table border=\"1\" class=\"dataframe\">\n",
       "  <thead>\n",
       "    <tr style=\"text-align: right;\">\n",
       "      <th></th>\n",
       "      <th>id</th>\n",
       "      <th>qid1</th>\n",
       "      <th>qid2</th>\n",
       "      <th>question1</th>\n",
       "      <th>question2</th>\n",
       "      <th>is_duplicate</th>\n",
       "      <th>q1_len</th>\n",
       "      <th>q2_len</th>\n",
       "      <th>q1_num_words</th>\n",
       "      <th>q2_num_words</th>\n",
       "      <th>word_common</th>\n",
       "    </tr>\n",
       "  </thead>\n",
       "  <tbody>\n",
       "    <tr>\n",
       "      <th>140553</th>\n",
       "      <td>140553</td>\n",
       "      <td>223340</td>\n",
       "      <td>223341</td>\n",
       "      <td>What are some of the Google Voice features?</td>\n",
       "      <td>What does Google Voice do?</td>\n",
       "      <td>1</td>\n",
       "      <td>43</td>\n",
       "      <td>26</td>\n",
       "      <td>8</td>\n",
       "      <td>5</td>\n",
       "      <td>3</td>\n",
       "    </tr>\n",
       "    <tr>\n",
       "      <th>346129</th>\n",
       "      <td>346129</td>\n",
       "      <td>450816</td>\n",
       "      <td>474489</td>\n",
       "      <td>What are the best websites to read well writte...</td>\n",
       "      <td>What is the best blog to read website reviews?</td>\n",
       "      <td>0</td>\n",
       "      <td>57</td>\n",
       "      <td>46</td>\n",
       "      <td>10</td>\n",
       "      <td>9</td>\n",
       "      <td>5</td>\n",
       "    </tr>\n",
       "    <tr>\n",
       "      <th>296986</th>\n",
       "      <td>296986</td>\n",
       "      <td>320238</td>\n",
       "      <td>419302</td>\n",
       "      <td>Why is Sri lanka and Bangladesh, so much clean...</td>\n",
       "      <td>Why the oldest civilization were only in India...</td>\n",
       "      <td>0</td>\n",
       "      <td>60</td>\n",
       "      <td>141</td>\n",
       "      <td>11</td>\n",
       "      <td>19</td>\n",
       "      <td>4</td>\n",
       "    </tr>\n",
       "    <tr>\n",
       "      <th>330326</th>\n",
       "      <td>330326</td>\n",
       "      <td>407799</td>\n",
       "      <td>457074</td>\n",
       "      <td>What are the guest privileges with an LA Fitne...</td>\n",
       "      <td>How do you get a membership at LA Fitness?</td>\n",
       "      <td>0</td>\n",
       "      <td>60</td>\n",
       "      <td>42</td>\n",
       "      <td>10</td>\n",
       "      <td>9</td>\n",
       "      <td>1</td>\n",
       "    </tr>\n",
       "    <tr>\n",
       "      <th>312931</th>\n",
       "      <td>312931</td>\n",
       "      <td>437457</td>\n",
       "      <td>437458</td>\n",
       "      <td>How exactly is curve fitting and hypothesis te...</td>\n",
       "      <td>What does fitting a model in machine learning ...</td>\n",
       "      <td>0</td>\n",
       "      <td>77</td>\n",
       "      <td>51</td>\n",
       "      <td>12</td>\n",
       "      <td>9</td>\n",
       "      <td>3</td>\n",
       "    </tr>\n",
       "  </tbody>\n",
       "</table>\n",
       "</div>"
      ],
      "text/plain": [
       "            id    qid1    qid2  \\\n",
       "140553  140553  223340  223341   \n",
       "346129  346129  450816  474489   \n",
       "296986  296986  320238  419302   \n",
       "330326  330326  407799  457074   \n",
       "312931  312931  437457  437458   \n",
       "\n",
       "                                                question1  \\\n",
       "140553        What are some of the Google Voice features?   \n",
       "346129  What are the best websites to read well writte...   \n",
       "296986  Why is Sri lanka and Bangladesh, so much clean...   \n",
       "330326  What are the guest privileges with an LA Fitne...   \n",
       "312931  How exactly is curve fitting and hypothesis te...   \n",
       "\n",
       "                                                question2  is_duplicate  \\\n",
       "140553                         What does Google Voice do?             1   \n",
       "346129     What is the best blog to read website reviews?             0   \n",
       "296986  Why the oldest civilization were only in India...             0   \n",
       "330326         How do you get a membership at LA Fitness?             0   \n",
       "312931  What does fitting a model in machine learning ...             0   \n",
       "\n",
       "        q1_len  q2_len  q1_num_words  q2_num_words  word_common  \n",
       "140553      43      26             8             5            3  \n",
       "346129      57      46            10             9            5  \n",
       "296986      60     141            11            19            4  \n",
       "330326      60      42            10             9            1  \n",
       "312931      77      51            12             9            3  "
      ]
     },
     "execution_count": 20,
     "metadata": {},
     "output_type": "execute_result"
    }
   ],
   "source": [
    "new_df['word_common'] = new_df.apply(common_words, axis=1)\n",
    "new_df.head()"
   ]
  },
  {
   "cell_type": "code",
   "execution_count": 21,
   "id": "97097201",
   "metadata": {},
   "outputs": [],
   "source": [
    "def total_words(row):\n",
    "    w1 = set(map(lambda word: word.lower().strip(), row['question1'].split(\" \")))\n",
    "    w2 = set(map(lambda word: word.lower().strip(), row['question2'].split(\" \")))    \n",
    "    return (len(w1) + len(w2))"
   ]
  },
  {
   "cell_type": "code",
   "execution_count": 22,
   "id": "b28d85f2",
   "metadata": {},
   "outputs": [
    {
     "data": {
      "text/html": [
       "<div>\n",
       "<style scoped>\n",
       "    .dataframe tbody tr th:only-of-type {\n",
       "        vertical-align: middle;\n",
       "    }\n",
       "\n",
       "    .dataframe tbody tr th {\n",
       "        vertical-align: top;\n",
       "    }\n",
       "\n",
       "    .dataframe thead th {\n",
       "        text-align: right;\n",
       "    }\n",
       "</style>\n",
       "<table border=\"1\" class=\"dataframe\">\n",
       "  <thead>\n",
       "    <tr style=\"text-align: right;\">\n",
       "      <th></th>\n",
       "      <th>id</th>\n",
       "      <th>qid1</th>\n",
       "      <th>qid2</th>\n",
       "      <th>question1</th>\n",
       "      <th>question2</th>\n",
       "      <th>is_duplicate</th>\n",
       "      <th>q1_len</th>\n",
       "      <th>q2_len</th>\n",
       "      <th>q1_num_words</th>\n",
       "      <th>q2_num_words</th>\n",
       "      <th>word_common</th>\n",
       "      <th>word_total</th>\n",
       "    </tr>\n",
       "  </thead>\n",
       "  <tbody>\n",
       "    <tr>\n",
       "      <th>140553</th>\n",
       "      <td>140553</td>\n",
       "      <td>223340</td>\n",
       "      <td>223341</td>\n",
       "      <td>What are some of the Google Voice features?</td>\n",
       "      <td>What does Google Voice do?</td>\n",
       "      <td>1</td>\n",
       "      <td>43</td>\n",
       "      <td>26</td>\n",
       "      <td>8</td>\n",
       "      <td>5</td>\n",
       "      <td>3</td>\n",
       "      <td>13</td>\n",
       "    </tr>\n",
       "    <tr>\n",
       "      <th>346129</th>\n",
       "      <td>346129</td>\n",
       "      <td>450816</td>\n",
       "      <td>474489</td>\n",
       "      <td>What are the best websites to read well writte...</td>\n",
       "      <td>What is the best blog to read website reviews?</td>\n",
       "      <td>0</td>\n",
       "      <td>57</td>\n",
       "      <td>46</td>\n",
       "      <td>10</td>\n",
       "      <td>9</td>\n",
       "      <td>5</td>\n",
       "      <td>19</td>\n",
       "    </tr>\n",
       "    <tr>\n",
       "      <th>296986</th>\n",
       "      <td>296986</td>\n",
       "      <td>320238</td>\n",
       "      <td>419302</td>\n",
       "      <td>Why is Sri lanka and Bangladesh, so much clean...</td>\n",
       "      <td>Why the oldest civilization were only in India...</td>\n",
       "      <td>0</td>\n",
       "      <td>60</td>\n",
       "      <td>141</td>\n",
       "      <td>11</td>\n",
       "      <td>19</td>\n",
       "      <td>4</td>\n",
       "      <td>30</td>\n",
       "    </tr>\n",
       "    <tr>\n",
       "      <th>330326</th>\n",
       "      <td>330326</td>\n",
       "      <td>407799</td>\n",
       "      <td>457074</td>\n",
       "      <td>What are the guest privileges with an LA Fitne...</td>\n",
       "      <td>How do you get a membership at LA Fitness?</td>\n",
       "      <td>0</td>\n",
       "      <td>60</td>\n",
       "      <td>42</td>\n",
       "      <td>10</td>\n",
       "      <td>9</td>\n",
       "      <td>1</td>\n",
       "      <td>19</td>\n",
       "    </tr>\n",
       "    <tr>\n",
       "      <th>312931</th>\n",
       "      <td>312931</td>\n",
       "      <td>437457</td>\n",
       "      <td>437458</td>\n",
       "      <td>How exactly is curve fitting and hypothesis te...</td>\n",
       "      <td>What does fitting a model in machine learning ...</td>\n",
       "      <td>0</td>\n",
       "      <td>77</td>\n",
       "      <td>51</td>\n",
       "      <td>12</td>\n",
       "      <td>9</td>\n",
       "      <td>3</td>\n",
       "      <td>21</td>\n",
       "    </tr>\n",
       "  </tbody>\n",
       "</table>\n",
       "</div>"
      ],
      "text/plain": [
       "            id    qid1    qid2  \\\n",
       "140553  140553  223340  223341   \n",
       "346129  346129  450816  474489   \n",
       "296986  296986  320238  419302   \n",
       "330326  330326  407799  457074   \n",
       "312931  312931  437457  437458   \n",
       "\n",
       "                                                question1  \\\n",
       "140553        What are some of the Google Voice features?   \n",
       "346129  What are the best websites to read well writte...   \n",
       "296986  Why is Sri lanka and Bangladesh, so much clean...   \n",
       "330326  What are the guest privileges with an LA Fitne...   \n",
       "312931  How exactly is curve fitting and hypothesis te...   \n",
       "\n",
       "                                                question2  is_duplicate  \\\n",
       "140553                         What does Google Voice do?             1   \n",
       "346129     What is the best blog to read website reviews?             0   \n",
       "296986  Why the oldest civilization were only in India...             0   \n",
       "330326         How do you get a membership at LA Fitness?             0   \n",
       "312931  What does fitting a model in machine learning ...             0   \n",
       "\n",
       "        q1_len  q2_len  q1_num_words  q2_num_words  word_common  word_total  \n",
       "140553      43      26             8             5            3          13  \n",
       "346129      57      46            10             9            5          19  \n",
       "296986      60     141            11            19            4          30  \n",
       "330326      60      42            10             9            1          19  \n",
       "312931      77      51            12             9            3          21  "
      ]
     },
     "execution_count": 22,
     "metadata": {},
     "output_type": "execute_result"
    }
   ],
   "source": [
    "new_df['word_total'] = new_df.apply(total_words, axis=1)\n",
    "new_df.head()"
   ]
  },
  {
   "cell_type": "code",
   "execution_count": 23,
   "id": "49dadefc",
   "metadata": {},
   "outputs": [
    {
     "data": {
      "text/html": [
       "<div>\n",
       "<style scoped>\n",
       "    .dataframe tbody tr th:only-of-type {\n",
       "        vertical-align: middle;\n",
       "    }\n",
       "\n",
       "    .dataframe tbody tr th {\n",
       "        vertical-align: top;\n",
       "    }\n",
       "\n",
       "    .dataframe thead th {\n",
       "        text-align: right;\n",
       "    }\n",
       "</style>\n",
       "<table border=\"1\" class=\"dataframe\">\n",
       "  <thead>\n",
       "    <tr style=\"text-align: right;\">\n",
       "      <th></th>\n",
       "      <th>id</th>\n",
       "      <th>qid1</th>\n",
       "      <th>qid2</th>\n",
       "      <th>question1</th>\n",
       "      <th>question2</th>\n",
       "      <th>is_duplicate</th>\n",
       "      <th>q1_len</th>\n",
       "      <th>q2_len</th>\n",
       "      <th>q1_num_words</th>\n",
       "      <th>q2_num_words</th>\n",
       "      <th>word_common</th>\n",
       "      <th>word_total</th>\n",
       "      <th>word_share</th>\n",
       "    </tr>\n",
       "  </thead>\n",
       "  <tbody>\n",
       "    <tr>\n",
       "      <th>140553</th>\n",
       "      <td>140553</td>\n",
       "      <td>223340</td>\n",
       "      <td>223341</td>\n",
       "      <td>What are some of the Google Voice features?</td>\n",
       "      <td>What does Google Voice do?</td>\n",
       "      <td>1</td>\n",
       "      <td>43</td>\n",
       "      <td>26</td>\n",
       "      <td>8</td>\n",
       "      <td>5</td>\n",
       "      <td>3</td>\n",
       "      <td>13</td>\n",
       "      <td>0.23</td>\n",
       "    </tr>\n",
       "    <tr>\n",
       "      <th>346129</th>\n",
       "      <td>346129</td>\n",
       "      <td>450816</td>\n",
       "      <td>474489</td>\n",
       "      <td>What are the best websites to read well writte...</td>\n",
       "      <td>What is the best blog to read website reviews?</td>\n",
       "      <td>0</td>\n",
       "      <td>57</td>\n",
       "      <td>46</td>\n",
       "      <td>10</td>\n",
       "      <td>9</td>\n",
       "      <td>5</td>\n",
       "      <td>19</td>\n",
       "      <td>0.26</td>\n",
       "    </tr>\n",
       "    <tr>\n",
       "      <th>296986</th>\n",
       "      <td>296986</td>\n",
       "      <td>320238</td>\n",
       "      <td>419302</td>\n",
       "      <td>Why is Sri lanka and Bangladesh, so much clean...</td>\n",
       "      <td>Why the oldest civilization were only in India...</td>\n",
       "      <td>0</td>\n",
       "      <td>60</td>\n",
       "      <td>141</td>\n",
       "      <td>11</td>\n",
       "      <td>19</td>\n",
       "      <td>4</td>\n",
       "      <td>30</td>\n",
       "      <td>0.13</td>\n",
       "    </tr>\n",
       "    <tr>\n",
       "      <th>330326</th>\n",
       "      <td>330326</td>\n",
       "      <td>407799</td>\n",
       "      <td>457074</td>\n",
       "      <td>What are the guest privileges with an LA Fitne...</td>\n",
       "      <td>How do you get a membership at LA Fitness?</td>\n",
       "      <td>0</td>\n",
       "      <td>60</td>\n",
       "      <td>42</td>\n",
       "      <td>10</td>\n",
       "      <td>9</td>\n",
       "      <td>1</td>\n",
       "      <td>19</td>\n",
       "      <td>0.05</td>\n",
       "    </tr>\n",
       "    <tr>\n",
       "      <th>312931</th>\n",
       "      <td>312931</td>\n",
       "      <td>437457</td>\n",
       "      <td>437458</td>\n",
       "      <td>How exactly is curve fitting and hypothesis te...</td>\n",
       "      <td>What does fitting a model in machine learning ...</td>\n",
       "      <td>0</td>\n",
       "      <td>77</td>\n",
       "      <td>51</td>\n",
       "      <td>12</td>\n",
       "      <td>9</td>\n",
       "      <td>3</td>\n",
       "      <td>21</td>\n",
       "      <td>0.14</td>\n",
       "    </tr>\n",
       "  </tbody>\n",
       "</table>\n",
       "</div>"
      ],
      "text/plain": [
       "            id    qid1    qid2  \\\n",
       "140553  140553  223340  223341   \n",
       "346129  346129  450816  474489   \n",
       "296986  296986  320238  419302   \n",
       "330326  330326  407799  457074   \n",
       "312931  312931  437457  437458   \n",
       "\n",
       "                                                question1  \\\n",
       "140553        What are some of the Google Voice features?   \n",
       "346129  What are the best websites to read well writte...   \n",
       "296986  Why is Sri lanka and Bangladesh, so much clean...   \n",
       "330326  What are the guest privileges with an LA Fitne...   \n",
       "312931  How exactly is curve fitting and hypothesis te...   \n",
       "\n",
       "                                                question2  is_duplicate  \\\n",
       "140553                         What does Google Voice do?             1   \n",
       "346129     What is the best blog to read website reviews?             0   \n",
       "296986  Why the oldest civilization were only in India...             0   \n",
       "330326         How do you get a membership at LA Fitness?             0   \n",
       "312931  What does fitting a model in machine learning ...             0   \n",
       "\n",
       "        q1_len  q2_len  q1_num_words  q2_num_words  word_common  word_total  \\\n",
       "140553      43      26             8             5            3          13   \n",
       "346129      57      46            10             9            5          19   \n",
       "296986      60     141            11            19            4          30   \n",
       "330326      60      42            10             9            1          19   \n",
       "312931      77      51            12             9            3          21   \n",
       "\n",
       "        word_share  \n",
       "140553        0.23  \n",
       "346129        0.26  \n",
       "296986        0.13  \n",
       "330326        0.05  \n",
       "312931        0.14  "
      ]
     },
     "execution_count": 23,
     "metadata": {},
     "output_type": "execute_result"
    }
   ],
   "source": [
    "new_df['word_share'] = round(new_df['word_common']/new_df['word_total'],2)\n",
    "new_df.head()"
   ]
  },
  {
   "cell_type": "code",
   "execution_count": 24,
   "id": "eaa60f6a",
   "metadata": {},
   "outputs": [
    {
     "name": "stdout",
     "output_type": "stream",
     "text": [
      "minimum characters 4\n",
      "maximum characters 413\n",
      "average num of characters 59\n"
     ]
    },
    {
     "data": {
      "image/png": "[encoded data removed]",
      "text/plain": [
       "<Figure size 500x500 with 1 Axes>"
      ]
     },
     "metadata": {},
     "output_type": "display_data"
    }
   ],
   "source": [
    "# Analysis of features\n",
    "sns.displot(new_df['q1_len'])\n",
    "print('minimum characters',new_df['q1_len'].min())\n",
    "print('maximum characters',new_df['q1_len'].max())\n",
    "print('average num of characters',int(new_df['q1_len'].mean()))"
   ]
  },
  {
   "cell_type": "code",
   "execution_count": 25,
   "id": "4db4d604",
   "metadata": {},
   "outputs": [
    {
     "name": "stdout",
     "output_type": "stream",
     "text": [
      "minimum characters 2\n",
      "maximum characters 1151\n",
      "average num of characters 60\n"
     ]
    },
    {
     "data": {
      "image/png": "[encoded data removed]",
      "text/plain": [
       "<Figure size 500x500 with 1 Axes>"
      ]
     },
     "metadata": {},
     "output_type": "display_data"
    }
   ],
   "source": [
    "sns.displot(new_df['q2_len'])\n",
    "print('minimum characters',new_df['q2_len'].min())\n",
    "print('maximum characters',new_df['q2_len'].max())\n",
    "print('average num of characters',int(new_df['q2_len'].mean()))"
   ]
  },
  {
   "cell_type": "code",
   "execution_count": 26,
   "id": "57b6c5e7",
   "metadata": {},
   "outputs": [
    {
     "name": "stdout",
     "output_type": "stream",
     "text": [
      "minimum words 1\n",
      "maximum words 79\n",
      "average num of words 10\n"
     ]
    },
    {
     "data": {
      "image/png": "[encoded data removed]",
      "text/plain": [
       "<Figure size 500x500 with 1 Axes>"
      ]
     },
     "metadata": {},
     "output_type": "display_data"
    }
   ],
   "source": [
    "sns.displot(new_df['q1_num_words'])\n",
    "print('minimum words',new_df['q1_num_words'].min())\n",
    "print('maximum words',new_df['q1_num_words'].max())\n",
    "print('average num of words',int(new_df['q1_num_words'].mean()))"
   ]
  },
  {
   "cell_type": "code",
   "execution_count": 27,
   "id": "9c8f253a",
   "metadata": {},
   "outputs": [
    {
     "name": "stdout",
     "output_type": "stream",
     "text": [
      "minimum words 1\n",
      "maximum words 237\n",
      "average num of words 11\n"
     ]
    },
    {
     "data": {
      "image/png": "[encoded data removed]",
      "text/plain": [
       "<Figure size 500x500 with 1 Axes>"
      ]
     },
     "metadata": {},
     "output_type": "display_data"
    }
   ],
   "source": [
    "sns.displot(new_df['q2_num_words'])\n",
    "print('minimum words',new_df['q2_num_words'].min())\n",
    "print('maximum words',new_df['q2_num_words'].max())\n",
    "print('average num of words',int(new_df['q2_num_words'].mean()))"
   ]
  },
  {
   "cell_type": "code",
   "execution_count": 28,
   "id": "07074051",
   "metadata": {},
   "outputs": [
    {
     "data": {
      "image/png": "[encoded data removed]",
      "text/plain": [
       "<Figure size 640x480 with 1 Axes>"
      ]
     },
     "metadata": {},
     "output_type": "display_data"
    }
   ],
   "source": [
    "# common words\n",
    "sns.distplot(new_df[new_df['is_duplicate'] == 0]['word_common'],label='non duplicate')\n",
    "sns.distplot(new_df[new_df['is_duplicate'] == 1]['word_common'],label='duplicate')\n",
    "plt.legend()\n",
    "plt.show()"
   ]
  },
  {
   "cell_type": "code",
   "execution_count": 29,
   "id": "f43ae1e1",
   "metadata": {},
   "outputs": [
    {
     "data": {
      "image/png": "[encoded data removed]",
      "text/plain": [
       "<Figure size 640x480 with 1 Axes>"
      ]
     },
     "metadata": {},
     "output_type": "display_data"
    }
   ],
   "source": [
    "# total words\n",
    "sns.distplot(new_df[new_df['is_duplicate'] == 0]['word_total'],label='non duplicate')\n",
    "sns.distplot(new_df[new_df['is_duplicate'] == 1]['word_total'],label='duplicate')\n",
    "plt.legend()\n",
    "plt.show()"
   ]
  },
  {
   "cell_type": "code",
   "execution_count": 30,
   "id": "9ed1af17",
   "metadata": {},
   "outputs": [
    {
     "data": {
      "image/png": "[encoded data removed]",
      "text/plain": [
       "<Figure size 640x480 with 1 Axes>"
      ]
     },
     "metadata": {},
     "output_type": "display_data"
    }
   ],
   "source": [
    "# word share\n",
    "sns.distplot(new_df[new_df['is_duplicate'] == 0]['word_share'],label='non duplicate')\n",
    "sns.distplot(new_df[new_df['is_duplicate'] == 1]['word_share'],label='duplicate')\n",
    "plt.legend()\n",
    "plt.show()"
   ]
  },
  {
   "cell_type": "code",
   "execution_count": 32,
   "id": "befd0fc6",
   "metadata": {},
   "outputs": [
    {
     "name": "stdout",
     "output_type": "stream",
     "text": [
      "(30000, 8)\n"
     ]
    },
    {
     "data": {
      "text/html": [
       "<div>\n",
       "<style scoped>\n",
       "    .dataframe tbody tr th:only-of-type {\n",
       "        vertical-align: middle;\n",
       "    }\n",
       "\n",
       "    .dataframe tbody tr th {\n",
       "        vertical-align: top;\n",
       "    }\n",
       "\n",
       "    .dataframe thead th {\n",
       "        text-align: right;\n",
       "    }\n",
       "</style>\n",
       "<table border=\"1\" class=\"dataframe\">\n",
       "  <thead>\n",
       "    <tr style=\"text-align: right;\">\n",
       "      <th></th>\n",
       "      <th>is_duplicate</th>\n",
       "      <th>q1_len</th>\n",
       "      <th>q2_len</th>\n",
       "      <th>q1_num_words</th>\n",
       "      <th>q2_num_words</th>\n",
       "      <th>word_common</th>\n",
       "      <th>word_total</th>\n",
       "      <th>word_share</th>\n",
       "    </tr>\n",
       "  </thead>\n",
       "  <tbody>\n",
       "    <tr>\n",
       "      <th>140553</th>\n",
       "      <td>1</td>\n",
       "      <td>43</td>\n",
       "      <td>26</td>\n",
       "      <td>8</td>\n",
       "      <td>5</td>\n",
       "      <td>3</td>\n",
       "      <td>13</td>\n",
       "      <td>0.23</td>\n",
       "    </tr>\n",
       "    <tr>\n",
       "      <th>346129</th>\n",
       "      <td>0</td>\n",
       "      <td>57</td>\n",
       "      <td>46</td>\n",
       "      <td>10</td>\n",
       "      <td>9</td>\n",
       "      <td>5</td>\n",
       "      <td>19</td>\n",
       "      <td>0.26</td>\n",
       "    </tr>\n",
       "    <tr>\n",
       "      <th>296986</th>\n",
       "      <td>0</td>\n",
       "      <td>60</td>\n",
       "      <td>141</td>\n",
       "      <td>11</td>\n",
       "      <td>19</td>\n",
       "      <td>4</td>\n",
       "      <td>30</td>\n",
       "      <td>0.13</td>\n",
       "    </tr>\n",
       "    <tr>\n",
       "      <th>330326</th>\n",
       "      <td>0</td>\n",
       "      <td>60</td>\n",
       "      <td>42</td>\n",
       "      <td>10</td>\n",
       "      <td>9</td>\n",
       "      <td>1</td>\n",
       "      <td>19</td>\n",
       "      <td>0.05</td>\n",
       "    </tr>\n",
       "    <tr>\n",
       "      <th>312931</th>\n",
       "      <td>0</td>\n",
       "      <td>77</td>\n",
       "      <td>51</td>\n",
       "      <td>12</td>\n",
       "      <td>9</td>\n",
       "      <td>3</td>\n",
       "      <td>21</td>\n",
       "      <td>0.14</td>\n",
       "    </tr>\n",
       "  </tbody>\n",
       "</table>\n",
       "</div>"
      ],
      "text/plain": [
       "        is_duplicate  q1_len  q2_len  q1_num_words  q2_num_words  word_common  \\\n",
       "140553             1      43      26             8             5            3   \n",
       "346129             0      57      46            10             9            5   \n",
       "296986             0      60     141            11            19            4   \n",
       "330326             0      60      42            10             9            1   \n",
       "312931             0      77      51            12             9            3   \n",
       "\n",
       "        word_total  word_share  \n",
       "140553          13        0.23  \n",
       "346129          19        0.26  \n",
       "296986          30        0.13  \n",
       "330326          19        0.05  \n",
       "312931          21        0.14  "
      ]
     },
     "execution_count": 32,
     "metadata": {},
     "output_type": "execute_result"
    }
   ],
   "source": [
    "final_df = new_df.drop(columns=['id','qid1','qid2','question1','question2'])\n",
    "print(final_df.shape)\n",
    "final_df.head()"
   ]
  },
  {
   "cell_type": "code",
   "execution_count": 33,
   "id": "4b393a09",
   "metadata": {},
   "outputs": [],
   "source": [
    "from sklearn.feature_extraction.text import CountVectorizer\n",
    "# merge texts\n",
    "questions = list(ques_df['question1']) + list(ques_df['question2'])\n",
    "\n",
    "cv = CountVectorizer(max_features=3000)\n",
    "q1_arr, q2_arr = np.vsplit(cv.fit_transform(questions).toarray(),2)"
   ]
  },
  {
   "cell_type": "code",
   "execution_count": 34,
   "id": "0cd6a7e3",
   "metadata": {},
   "outputs": [
    {
     "data": {
      "text/plain": [
       "(30000, 6000)"
      ]
     },
     "execution_count": 34,
     "metadata": {},
     "output_type": "execute_result"
    }
   ],
   "source": [
    "temp_df1 = pd.DataFrame(q1_arr, index= ques_df.index)\n",
    "temp_df2 = pd.DataFrame(q2_arr, index= ques_df.index)\n",
    "temp_df = pd.concat([temp_df1, temp_df2], axis=1)\n",
    "temp_df.shape"
   ]
  },
  {
   "cell_type": "code",
   "execution_count": 35,
   "id": "d58edd3e",
   "metadata": {},
   "outputs": [
    {
     "name": "stdout",
     "output_type": "stream",
     "text": [
      "(30000, 6008)\n"
     ]
    },
    {
     "data": {
      "text/html": [
       "<div>\n",
       "<style scoped>\n",
       "    .dataframe tbody tr th:only-of-type {\n",
       "        vertical-align: middle;\n",
       "    }\n",
       "\n",
       "    .dataframe tbody tr th {\n",
       "        vertical-align: top;\n",
       "    }\n",
       "\n",
       "    .dataframe thead th {\n",
       "        text-align: right;\n",
       "    }\n",
       "</style>\n",
       "<table border=\"1\" class=\"dataframe\">\n",
       "  <thead>\n",
       "    <tr style=\"text-align: right;\">\n",
       "      <th></th>\n",
       "      <th>is_duplicate</th>\n",
       "      <th>q1_len</th>\n",
       "      <th>q2_len</th>\n",
       "      <th>q1_num_words</th>\n",
       "      <th>q2_num_words</th>\n",
       "      <th>word_common</th>\n",
       "      <th>word_total</th>\n",
       "      <th>word_share</th>\n",
       "      <th>0</th>\n",
       "      <th>1</th>\n",
       "      <th>...</th>\n",
       "      <th>2990</th>\n",
       "      <th>2991</th>\n",
       "      <th>2992</th>\n",
       "      <th>2993</th>\n",
       "      <th>2994</th>\n",
       "      <th>2995</th>\n",
       "      <th>2996</th>\n",
       "      <th>2997</th>\n",
       "      <th>2998</th>\n",
       "      <th>2999</th>\n",
       "    </tr>\n",
       "  </thead>\n",
       "  <tbody>\n",
       "    <tr>\n",
       "      <th>140553</th>\n",
       "      <td>1</td>\n",
       "      <td>43</td>\n",
       "      <td>26</td>\n",
       "      <td>8</td>\n",
       "      <td>5</td>\n",
       "      <td>3</td>\n",
       "      <td>13</td>\n",
       "      <td>0.23</td>\n",
       "      <td>0</td>\n",
       "      <td>0</td>\n",
       "      <td>...</td>\n",
       "      <td>0</td>\n",
       "      <td>0</td>\n",
       "      <td>0</td>\n",
       "      <td>0</td>\n",
       "      <td>0</td>\n",
       "      <td>0</td>\n",
       "      <td>0</td>\n",
       "      <td>0</td>\n",
       "      <td>0</td>\n",
       "      <td>0</td>\n",
       "    </tr>\n",
       "    <tr>\n",
       "      <th>346129</th>\n",
       "      <td>0</td>\n",
       "      <td>57</td>\n",
       "      <td>46</td>\n",
       "      <td>10</td>\n",
       "      <td>9</td>\n",
       "      <td>5</td>\n",
       "      <td>19</td>\n",
       "      <td>0.26</td>\n",
       "      <td>0</td>\n",
       "      <td>0</td>\n",
       "      <td>...</td>\n",
       "      <td>0</td>\n",
       "      <td>0</td>\n",
       "      <td>0</td>\n",
       "      <td>0</td>\n",
       "      <td>0</td>\n",
       "      <td>0</td>\n",
       "      <td>0</td>\n",
       "      <td>0</td>\n",
       "      <td>0</td>\n",
       "      <td>0</td>\n",
       "    </tr>\n",
       "    <tr>\n",
       "      <th>296986</th>\n",
       "      <td>0</td>\n",
       "      <td>60</td>\n",
       "      <td>141</td>\n",
       "      <td>11</td>\n",
       "      <td>19</td>\n",
       "      <td>4</td>\n",
       "      <td>30</td>\n",
       "      <td>0.13</td>\n",
       "      <td>0</td>\n",
       "      <td>0</td>\n",
       "      <td>...</td>\n",
       "      <td>0</td>\n",
       "      <td>0</td>\n",
       "      <td>0</td>\n",
       "      <td>0</td>\n",
       "      <td>0</td>\n",
       "      <td>0</td>\n",
       "      <td>0</td>\n",
       "      <td>0</td>\n",
       "      <td>0</td>\n",
       "      <td>0</td>\n",
       "    </tr>\n",
       "    <tr>\n",
       "      <th>330326</th>\n",
       "      <td>0</td>\n",
       "      <td>60</td>\n",
       "      <td>42</td>\n",
       "      <td>10</td>\n",
       "      <td>9</td>\n",
       "      <td>1</td>\n",
       "      <td>19</td>\n",
       "      <td>0.05</td>\n",
       "      <td>0</td>\n",
       "      <td>0</td>\n",
       "      <td>...</td>\n",
       "      <td>0</td>\n",
       "      <td>0</td>\n",
       "      <td>1</td>\n",
       "      <td>0</td>\n",
       "      <td>0</td>\n",
       "      <td>0</td>\n",
       "      <td>0</td>\n",
       "      <td>0</td>\n",
       "      <td>0</td>\n",
       "      <td>0</td>\n",
       "    </tr>\n",
       "    <tr>\n",
       "      <th>312931</th>\n",
       "      <td>0</td>\n",
       "      <td>77</td>\n",
       "      <td>51</td>\n",
       "      <td>12</td>\n",
       "      <td>9</td>\n",
       "      <td>3</td>\n",
       "      <td>21</td>\n",
       "      <td>0.14</td>\n",
       "      <td>0</td>\n",
       "      <td>0</td>\n",
       "      <td>...</td>\n",
       "      <td>0</td>\n",
       "      <td>0</td>\n",
       "      <td>0</td>\n",
       "      <td>0</td>\n",
       "      <td>0</td>\n",
       "      <td>0</td>\n",
       "      <td>0</td>\n",
       "      <td>0</td>\n",
       "      <td>0</td>\n",
       "      <td>0</td>\n",
       "    </tr>\n",
       "  </tbody>\n",
       "</table>\n",
       "<p>5 rows × 6008 columns</p>\n",
       "</div>"
      ],
      "text/plain": [
       "        is_duplicate  q1_len  q2_len  q1_num_words  q2_num_words  word_common  \\\n",
       "140553             1      43      26             8             5            3   \n",
       "346129             0      57      46            10             9            5   \n",
       "296986             0      60     141            11            19            4   \n",
       "330326             0      60      42            10             9            1   \n",
       "312931             0      77      51            12             9            3   \n",
       "\n",
       "        word_total  word_share  0  1  ...  2990  2991  2992  2993  2994  2995  \\\n",
       "140553          13        0.23  0  0  ...     0     0     0     0     0     0   \n",
       "346129          19        0.26  0  0  ...     0     0     0     0     0     0   \n",
       "296986          30        0.13  0  0  ...     0     0     0     0     0     0   \n",
       "330326          19        0.05  0  0  ...     0     0     1     0     0     0   \n",
       "312931          21        0.14  0  0  ...     0     0     0     0     0     0   \n",
       "\n",
       "        2996  2997  2998  2999  \n",
       "140553     0     0     0     0  \n",
       "346129     0     0     0     0  \n",
       "296986     0     0     0     0  \n",
       "330326     0     0     0     0  \n",
       "312931     0     0     0     0  \n",
       "\n",
       "[5 rows x 6008 columns]"
      ]
     },
     "execution_count": 35,
     "metadata": {},
     "output_type": "execute_result"
    }
   ],
   "source": [
    "final_df = pd.concat([final_df, temp_df], axis=1)\n",
    "print(final_df.shape)\n",
    "final_df.head()"
   ]
  },
  {
   "cell_type": "code",
   "execution_count": 36,
   "id": "a0ce5240",
   "metadata": {},
   "outputs": [],
   "source": [
    "from sklearn.model_selection import train_test_split\n",
    "X_train,X_test,y_train,y_test = train_test_split(final_df.iloc[:,1:].values,final_df.iloc[:,0].values,test_size=0.2,random_state=1)"
   ]
  },
  {
   "cell_type": "code",
   "execution_count": 37,
   "id": "33e890d5",
   "metadata": {},
   "outputs": [
    {
     "data": {
      "text/plain": [
       "0.7618333333333334"
      ]
     },
     "execution_count": 37,
     "metadata": {},
     "output_type": "execute_result"
    }
   ],
   "source": [
    "from sklearn.ensemble import RandomForestClassifier\n",
    "from sklearn.metrics import accuracy_score\n",
    "rf = RandomForestClassifier()\n",
    "rf.fit(X_train,y_train)\n",
    "y_pred = rf.predict(X_test)\n",
    "accuracy_score(y_test,y_pred)"
   ]
  },
  {
   "cell_type": "code",
   "execution_count": 38,
   "id": "7aa9f561",
   "metadata": {},
   "outputs": [
    {
     "data": {
      "text/plain": [
       "0.7638333333333334"
      ]
     },
     "execution_count": 38,
     "metadata": {},
     "output_type": "execute_result"
    }
   ],
   "source": [
    "from xgboost import XGBClassifier\n",
    "xgb = XGBClassifier()\n",
    "xgb.fit(X_train,y_train)\n",
    "y_pred = xgb.predict(X_test)\n",
    "accuracy_score(y_test,y_pred)"
   ]
  },
  {
   "cell_type": "code",
   "execution_count": null,
   "id": "00301053",
   "metadata": {},
   "outputs": [],
   "source": []
  }
 ],
 "metadata": {
  "kernelspec": {
   "display_name": "Python 3 (ipykernel)",
   "language": "python",
   "name": "python3"
  },
  "language_info": {
   "codemirror_mode": {
    "name": "ipython",
    "version": 3
   },
   "file_extension": ".py",
   "mimetype": "text/x-python",
   "name": "python",
   "nbconvert_exporter": "python",
   "pygments_lexer": "ipython3",
   "version": "3.11.3"
  }
 },
 "nbformat": 4,
 "nbformat_minor": 5
}
